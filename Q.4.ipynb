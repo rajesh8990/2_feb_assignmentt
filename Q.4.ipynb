{
 "cells": [
  {
   "cell_type": "code",
   "execution_count": 1,
   "id": "56e561cf-dc28-4dff-ad21-694a05903b5d",
   "metadata": {
    "tags": []
   },
   "outputs": [
    {
     "name": "stdout",
     "output_type": "stream",
     "text": [
      "[8, 64, 125, 216, 512, 1000, 1728, 2744, 3375, 4096, 5832, 8000, 10648, 13824, 15625, 17576, 21952, 27000, 32768, 39304, 42875, 46656, 54872, 64000, 74088, 85184, 91125, 97336, 110592, 125000, 140608, 157464, 166375, 175616, 195112, 216000, 238328, 262144, 274625, 287496, 314432, 343000, 373248, 405224, 421875, 438976, 474552, 512000, 551368, 592704, 614125, 636056, 681472, 729000, 778688, 830584, 857375, 884736, 941192, 1000000]\n"
     ]
    }
   ],
   "source": [
    "\"\"\"\n",
    "Q.4 Create a list of numbers from 1 to 100. Use for loop and while loop to calculate\n",
    "    the cube of each number. And if the cube of that number is divisible by 4 or 5 then append \n",
    "    that number in a list and print that list .\"\"\"\n",
    "# Creat a empty list to store the cube \n",
    "cubes=[]\n",
    "# Use a for loop to Calculate the cubes \n",
    "for number in range (1,101):\n",
    "    cube=number**3\n",
    "    if(cube%4==0 or cube%5==0):\n",
    "        cubes.append(cube)\n",
    "print(cubes)    "
   ]
  },
  {
   "cell_type": "code",
   "execution_count": 1,
   "id": "cd129ea6-3208-4a0c-8f11-c4e2ac4fe568",
   "metadata": {},
   "outputs": [
    {
     "name": "stdout",
     "output_type": "stream",
     "text": [
      "[8, 64, 125, 216, 512, 1000, 1728, 2744, 3375, 4096, 5832, 8000, 10648, 13824, 15625, 17576, 21952, 27000, 32768, 39304, 42875, 46656, 54872, 64000, 74088, 85184, 91125, 97336, 110592, 125000, 140608, 157464, 166375, 175616, 195112, 216000, 238328, 262144, 274625, 287496, 314432, 343000, 373248, 405224, 421875, 438976, 474552, 512000, 551368, 592704, 614125, 636056, 681472, 729000, 778688, 830584, 857375, 884736, 941192, 1000000]\n"
     ]
    }
   ],
   "source": [
    "# Creat a empty list to store the cube \n",
    "list = []\n",
    "num = 1\n",
    "# Use a while loop to Calculate the cubes \n",
    "while num < 101:\n",
    "    cube = num ** 3\n",
    "    if cube % 4 == 0 or cube % 5 == 0:\n",
    "        list.append(cube)\n",
    "    num = num + 1  \n",
    "\n",
    "print(list)\n"
   ]
  },
  {
   "cell_type": "code",
   "execution_count": null,
   "id": "863b4e4f-3ecd-409a-8483-91fce21a90a3",
   "metadata": {},
   "outputs": [],
   "source": []
  }
 ],
 "metadata": {
  "kernelspec": {
   "display_name": "Python 3 (ipykernel)",
   "language": "python",
   "name": "python3"
  },
  "language_info": {
   "codemirror_mode": {
    "name": "ipython",
    "version": 3
   },
   "file_extension": ".py",
   "mimetype": "text/x-python",
   "name": "python",
   "nbconvert_exporter": "python",
   "pygments_lexer": "ipython3",
   "version": "3.10.8"
  }
 },
 "nbformat": 4,
 "nbformat_minor": 5
}
