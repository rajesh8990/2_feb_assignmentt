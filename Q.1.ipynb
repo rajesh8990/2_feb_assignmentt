{
 "cells": [
  {
   "cell_type": "code",
   "execution_count": 5,
   "id": "2cd99571-329f-48d9-b122-7acb4961293f",
   "metadata": {},
   "outputs": [
    {
     "name": "stdout",
     "output_type": "stream",
     "text": [
      "1,2,3,4,5,6,7,8,9,10,"
     ]
    }
   ],
   "source": [
    "\"\"\" Q.1 Explain with an example each when to use a for loop and a while loop .\n",
    "\n",
    "    Ans. for loop ,use a for loop when you know the exact number of time you want to repeat the block of code\"\"\"\n",
    "    # Example for loop\n",
    "for i in range(1,11):\n",
    "    \n",
    "    print(i,end=\",\")\n"
   ]
  },
  {
   "cell_type": "code",
   "execution_count": 1,
   "id": "285096d8-b1e6-4614-ae6d-0fe4d658be5c",
   "metadata": {},
   "outputs": [
    {
     "name": "stdout",
     "output_type": "stream",
     "text": [
      "1,2,3,4,5,6,7,8,9,10,"
     ]
    }
   ],
   "source": [
    "# While loop\n",
    "\"\"\" Ans. In the while Loop, we execut the condition until the condition is true.\"\"\"\n",
    "# Example while loop\n",
    "a=1 # creat a variable to store\n",
    "while(a<=10):\n",
    "    print(a,end=\",\")\n",
    "    a=a+1 # Increment of variable a\n",
    "\n"
   ]
  },
  {
   "cell_type": "code",
   "execution_count": null,
   "id": "f6ce0b69-740d-457d-ae82-6613bb8a33e9",
   "metadata": {},
   "outputs": [],
   "source": []
  }
 ],
 "metadata": {
  "kernelspec": {
   "display_name": "Python 3 (ipykernel)",
   "language": "python",
   "name": "python3"
  },
  "language_info": {
   "codemirror_mode": {
    "name": "ipython",
    "version": 3
   },
   "file_extension": ".py",
   "mimetype": "text/x-python",
   "name": "python",
   "nbconvert_exporter": "python",
   "pygments_lexer": "ipython3",
   "version": "3.10.8"
  }
 },
 "nbformat": 4,
 "nbformat_minor": 5
}
