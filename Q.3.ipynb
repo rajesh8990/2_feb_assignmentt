{
 "cells": [
  {
   "cell_type": "code",
   "execution_count": 2,
   "id": "cafba107-6047-4457-8768-4b7df2dadade",
   "metadata": {},
   "outputs": [
    {
     "name": "stdin",
     "output_type": "stream",
     "text": [
      "Enter the units of electricity consumed a month :  310\n"
     ]
    },
    {
     "name": "stdout",
     "output_type": "stream",
     "text": [
      "The total electricity Bill : Rs. 2250.0\n"
     ]
    }
   ],
   "source": [
    "\"\"\"\n",
    "Q.3 Create a python program to comput The electricity bill for a household .\n",
    "    The per unit charges in rupees are as follows for the first 100 units .\n",
    "    The user will be charged 4.5 per unit, For the next 100 Units\n",
    "    the user will be charged 6 per unit, And for the next 100 unit ,\n",
    "    the user will be charged an 10 per unit after 300 units and above The user will be charged\n",
    "    20 per unit .\n",
    "    You are required to take the units of electricity consumed in a month from \n",
    "    the user as input .\n",
    "    Your programme must pass the test case : when the unit of electricity consumed\n",
    "    by the user in a month is 310 the total electricity bill should be by 2250.\"\"\"\n",
    "# Input : Units consumed by the User\n",
    "elc_con=int(input(\"Enter the units of electricity consumed a month : \"))\n",
    "# store total bill in variable b\n",
    "b=0\n",
    "if(elc_con<=100):\n",
    "    b=elc_con*4.5\n",
    "elif(elc_con<=200):\n",
    "    b=100*4.5+(elc_con-100)*6\n",
    "elif(elc_con<=300): \n",
    "    b=100*4.5+100*6+(elc_con-200)*10\n",
    "else:\n",
    "    (elc_con>=300)\n",
    "    b=100*4.5+100*6+100*10+(elc_con-300)*20\n",
    "print(\"The total electricity Bill : Rs.\",b)    \n"
   ]
  },
  {
   "cell_type": "markdown",
   "id": "50836396-a90f-431a-b221-5d995374762c",
   "metadata": {},
   "source": []
  }
 ],
 "metadata": {
  "kernelspec": {
   "display_name": "Python 3 (ipykernel)",
   "language": "python",
   "name": "python3"
  },
  "language_info": {
   "codemirror_mode": {
    "name": "ipython",
    "version": 3
   },
   "file_extension": ".py",
   "mimetype": "text/x-python",
   "name": "python",
   "nbconvert_exporter": "python",
   "pygments_lexer": "ipython3",
   "version": "3.10.8"
  }
 },
 "nbformat": 4,
 "nbformat_minor": 5
}
