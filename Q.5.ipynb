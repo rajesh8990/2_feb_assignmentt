{
 "cells": [
  {
   "cell_type": "code",
   "execution_count": 2,
   "id": "f1f93c92-9586-4881-b3eb-38505a380560",
   "metadata": {},
   "outputs": [
    {
     "name": "stdout",
     "output_type": "stream",
     "text": [
      " The number of vowels in the string  is : 12\n"
     ]
    }
   ],
   "source": [
    "\"\"\"Q.5  Write a program to filter count vowels in the below-given string .\n",
    "        string = \"I want to become a data scientist\" \n",
    "\"\"\"\n",
    "\n",
    "\n",
    "def count_vowel(input_string):\n",
    "    vowel=\"aeiouAEIOU\"\n",
    "    vowel_count=0\n",
    "    for i in input_string:\n",
    "        if i in vowel:\n",
    "            vowel_count += 1\n",
    "    return vowel_count\n",
    "result=count_vowel(\"I want to become a data scientist \")\n",
    "print(f\" The number of vowels in the string  is : {result}\")\n"
   ]
  },
  {
   "cell_type": "code",
   "execution_count": null,
   "id": "7bb49fb2-49ae-402f-a0e2-a263c14550b3",
   "metadata": {},
   "outputs": [],
   "source": []
  }
 ],
 "metadata": {
  "kernelspec": {
   "display_name": "Python 3 (ipykernel)",
   "language": "python",
   "name": "python3"
  },
  "language_info": {
   "codemirror_mode": {
    "name": "ipython",
    "version": 3
   },
   "file_extension": ".py",
   "mimetype": "text/x-python",
   "name": "python",
   "nbconvert_exporter": "python",
   "pygments_lexer": "ipython3",
   "version": "3.10.8"
  }
 },
 "nbformat": 4,
 "nbformat_minor": 5
}
