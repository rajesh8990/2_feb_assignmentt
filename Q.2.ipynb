{
 "cells": [
  {
   "cell_type": "code",
   "execution_count": 2,
   "id": "428b5cb7-baa5-47d8-a65e-86a38cfae64f",
   "metadata": {},
   "outputs": [
    {
     "name": "stdout",
     "output_type": "stream",
     "text": [
      "Using For Loop:\n",
      "Sum of the first 10 natural numbers: 55\n",
      "Product of the first 10 natural numbers: 3628800\n"
     ]
    }
   ],
   "source": [
    "\"\"\" Q.2 Write a python program to print the sum and product \n",
    "        of the first 10 natural numbers For and  while loop .\"\"\"\n",
    "\n",
    "\n",
    "# Using for loop to calculate sum and product\n",
    "sum_numbers = 0\n",
    "product_numbers = 1\n",
    "\n",
    "for i in range(1, 11):\n",
    "    sum_numbers =sum_numbers+i\n",
    "    product_numbers= product_numbers*i\n",
    "\n",
    "print(\"Using For Loop:\")\n",
    "print(\"Sum of the first 10 natural numbers:\", sum_numbers)\n",
    "print(\"Product of the first 10 natural numbers:\", product_numbers)\n",
    "\n",
    "\n",
    "\n",
    "\n"
   ]
  },
  {
   "cell_type": "code",
   "execution_count": 4,
   "id": "72bd9fd6-37fe-43dd-9c5a-d62dd5f5dcb1",
   "metadata": {},
   "outputs": [
    {
     "name": "stdout",
     "output_type": "stream",
     "text": [
      "\n",
      "Using While Loop:\n",
      "Sum of the first 10 natural numbers: 55\n",
      "Product of the first 10 natural numbers: 3628800\n"
     ]
    }
   ],
   "source": [
    "# Using while loop to calculate sum and product\n",
    "sum_numbers = 0\n",
    "product_numbers = 1\n",
    "count = 1\n",
    "\n",
    "while count <= 10:\n",
    "    sum_numbers =sum_numbers+ count\n",
    "    product_numbers =product_numbers*count\n",
    "    count = count+1\n",
    "\n",
    "print(\"\\nUsing While Loop:\")\n",
    "print(\"Sum of the first 10 natural numbers:\", sum_numbers)\n",
    "print(\"Product of the first 10 natural numbers:\", product_numbers)\n"
   ]
  },
  {
   "cell_type": "code",
   "execution_count": null,
   "id": "6fcf8c86-66ee-43a5-a943-785b26b95ebe",
   "metadata": {},
   "outputs": [],
   "source": []
  }
 ],
 "metadata": {
  "kernelspec": {
   "display_name": "Python 3 (ipykernel)",
   "language": "python",
   "name": "python3"
  },
  "language_info": {
   "codemirror_mode": {
    "name": "ipython",
    "version": 3
   },
   "file_extension": ".py",
   "mimetype": "text/x-python",
   "name": "python",
   "nbconvert_exporter": "python",
   "pygments_lexer": "ipython3",
   "version": "3.10.8"
  }
 },
 "nbformat": 4,
 "nbformat_minor": 5
}
